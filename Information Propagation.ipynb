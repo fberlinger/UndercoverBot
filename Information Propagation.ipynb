{
 "cells": [
  {
   "cell_type": "markdown",
   "metadata": {},
   "source": [
    "# Experiment: Information Propagation\n",
    "\n",
    "This notebook tests the percentage of consistent nodes using a very light-weight communication model in relation to the cohesion strategy"
   ]
  },
  {
   "cell_type": "code",
   "execution_count": 6,
   "metadata": {},
   "outputs": [
    {
     "name": "stdout",
     "output_type": "stream",
     "text": [
      "The autoreload extension is already loaded. To reload it, use:\n",
      "  %reload_ext autoreload\n"
     ]
    }
   ],
   "source": [
    "\"\"\"Load libraries\n",
    "\"\"\"\n",
    "%load_ext autoreload\n",
    "%autoreload 2\n",
    "%matplotlib inline\n",
    "\n",
    "import matplotlib\n",
    "\n",
    "matplotlib.rcParams['figure.figsize'] = [12, 8]\n",
    "\n",
    "import math\n",
    "import numpy as np\n",
    "\n",
    "from utils import init_simulation, run_simulation\n",
    "\n",
    "from events import InfoExternal\n",
    "\n",
    "num_fish = 48\n",
    "clock_freq = 15  # in Hz\n",
    "single_time = num_fish  # run time of one trial\n",
    "offset_time = 1  # offset in sec when the first trial starts\n",
    "num_trials = 50\n",
    "final_buffer = 3\n",
    "run_time = single_time * num_trials + final_buffer # in seconds\n",
    "run_time /= (clock_freq * 0.9)\n",
    "size_dist = 500\n",
    "center = size_dist / 2.0\n",
    "conn_drop = 2.0\n",
    "\n",
    "seed_fish_id = 0"
   ]
  },
  {
   "cell_type": "markdown",
   "metadata": {},
   "source": [
    "### Each fish as at most 2 neighbors it can likely communicate with"
   ]
  },
  {
   "cell_type": "code",
   "execution_count": 7,
   "metadata": {
    "scrolled": false
   },
   "outputs": [
    {
     "name": "stdout",
     "output_type": "stream",
     "text": [
      "Please wait patiently 178.0 seconds. Thanks.\n",
      "It's time to say bye bye!\n"
     ]
    },
    {
     "data": {
      "image/png": "[encoded data removed]",
      "text/plain": [
       "<Figure size 864x576 with 1 Axes>"
      ]
     },
     "metadata": {},
     "output_type": "display_data"
    },
    {
     "name": "stdout",
     "output_type": "stream",
     "text": [
      "Num. Fish with Correct Info: [3, 1, 1, 3, 2, 3, 2, 1, 1, 7, 4, 5, 1, 4, 5, 4, 13, 3, 4, 2, 12, 5, 1, 1, 2, 2, 4, 2, 6, 4, 5, 1, 1, 8, 1, 1, 3, 5, 1, 1, 1, 5, 2, 5, 5, 9, 7, 1, 1, 2]\n",
      "Num. Hops: [2, 0, 0, 2, 1, 2, 1, 0, 0, 3, 2, 4, 0, 3, 4, 3, 9, 2, 2, 1, 6, 3, 0, 0, 1, 1, 3, 1, 5, 2, 4, 0, 0, 5, 0, 0, 2, 2, 0, 0, 0, 3, 1, 3, 3, 7, 5, 0, 0, 1]\n"
     ]
    }
   ],
   "source": [
    "fish_pos = np.zeros((num_fish, 2))\n",
    "fish_pos[:,0] = np.arange(num_fish) + center - (num_fish / 2)\n",
    "fish_pos[:,1] = center\n",
    "\n",
    "channel, environment, fish, interaction, observer = init_simulation(\n",
    "    clock_freq=clock_freq,\n",
    "    single_time=single_time,\n",
    "    offset_time=offset_time,\n",
    "    num_trials=num_trials,\n",
    "    final_buffer=final_buffer,\n",
    "    run_time=run_time,\n",
    "    num_fish=num_fish,\n",
    "    size_dist=size_dist,\n",
    "    center=center,\n",
    "    spread=20,\n",
    "    fish_pos=fish_pos,\n",
    "    lim_neighbors=[1, math.inf],\n",
    "    neighbor_weights=1.0,\n",
    "    fish_max_speeds=1,\n",
    "    noise_magnitude=0,\n",
    "    conn_thres=1.25,\n",
    "    prob_type='sigmoid',\n",
    "    dist_type='none',\n",
    "    verbose=False,\n",
    "    conn_drop=conn_drop\n",
    ")\n",
    "\n",
    "for i in range(num_trials):\n",
    "    observer.instruct(\n",
    "        event=InfoExternal(message=i, track=True),\n",
    "        rel_clock=i * single_time + offset_time,\n",
    "        fish_id=seed_fish_id\n",
    "    )\n",
    "observer.study('info')  # Store information on the info propagation\n",
    "\n",
    "run_simulation(fish=fish, observer=observer, run_time=run_time, dark=True, white_axis=True, no_legend=True)"
   ]
  },
  {
   "cell_type": "markdown",
   "metadata": {},
   "source": [
    "### Each fish as at most 3 neighbors it can likely communicate with"
   ]
  },
  {
   "cell_type": "code",
   "execution_count": 8,
   "metadata": {},
   "outputs": [
    {
     "name": "stdout",
     "output_type": "stream",
     "text": [
      "Please wait patiently 178.0 seconds. Thanks.\n",
      "It's time to say bye bye!\n"
     ]
    },
    {
     "data": {
      "image/png": "[encoded data removed]",
      "text/plain": [
       "<Figure size 864x576 with 1 Axes>"
      ]
     },
     "metadata": {},
     "output_type": "display_data"
    },
    {
     "name": "stdout",
     "output_type": "stream",
     "text": [
      "Num. Fish with Correct Info: [1, 30, 36, 6, 7, 21, 17, 38, 1, 22, 3, 7, 34, 25, 27, 16, 33, 20, 45, 29, 20, 2, 19, 48, 30, 26, 41, 10, 4, 9, 1, 31, 5, 16, 21, 47, 4, 40, 10, 5, 2, 17, 19, 1, 13, 32, 6, 1, 48, 1]\n",
      "Num. Hops: [0, 17, 18, 3, 3, 11, 8, 18, 0, 12, 1, 3, 18, 13, 16, 7, 15, 10, 26, 16, 10, 1, 12, 22, 15, 13, 22, 4, 1, 5, 0, 15, 3, 9, 9, 24, 2, 22, 5, 3, 1, 8, 10, 0, 6, 15, 4, 0, 26, 0]\n"
     ]
    }
   ],
   "source": [
    "fish_pos = np.zeros((num_fish, 2))\n",
    "fish_pos[:,0] = np.arange(num_fish) + center - (num_fish / 2)\n",
    "fish_pos[:,1] = center\n",
    "fish_pos[::2][:,1] += math.sqrt(3)\n",
    "\n",
    "channel, environment, fish, interaction, observer = init_simulation(\n",
    "    clock_freq=clock_freq,\n",
    "    single_time=single_time,\n",
    "    offset_time=offset_time,\n",
    "    num_trials=num_trials,\n",
    "    final_buffer=final_buffer,\n",
    "    run_time=run_time,\n",
    "    num_fish=num_fish,\n",
    "    size_dist=size_dist,\n",
    "    center=center,\n",
    "    spread=20,\n",
    "    fish_pos=fish_pos,\n",
    "    lim_neighbors=[1, math.inf],\n",
    "    neighbor_weights=1.0,\n",
    "    fish_max_speeds=1,\n",
    "    noise_magnitude=0,\n",
    "    conn_thres=2.25,\n",
    "    prob_type='sigmoid',\n",
    "    dist_type='none',\n",
    "    verbose=False,\n",
    "    conn_drop=conn_drop\n",
    ")\n",
    "\n",
    "for i in range(num_trials):\n",
    "    observer.instruct(\n",
    "        event=InfoExternal(message=i, track=True),\n",
    "        rel_clock=i * single_time + offset_time,\n",
    "        fish_id=seed_fish_id\n",
    "    )\n",
    "observer.study('info')  # Store information on the info propagation\n",
    "\n",
    "run_simulation(fish=fish, observer=observer, run_time=run_time, dark=True, white_axis=True, no_legend=True)"
   ]
  },
  {
   "cell_type": "markdown",
   "metadata": {},
   "source": [
    "### Each fish as at most 4 neighbors it can likely communicate with"
   ]
  },
  {
   "cell_type": "code",
   "execution_count": 9,
   "metadata": {
    "scrolled": false
   },
   "outputs": [
    {
     "name": "stdout",
     "output_type": "stream",
     "text": [
      "Please wait patiently 178.0 seconds. Thanks.\n",
      "It's time to say bye bye!\n"
     ]
    },
    {
     "data": {
      "image/png": "[encoded data removed]",
      "text/plain": [
       "<Figure size 864x576 with 1 Axes>"
      ]
     },
     "metadata": {},
     "output_type": "display_data"
    },
    {
     "name": "stdout",
     "output_type": "stream",
     "text": [
      "Num. Fish with Correct Info: [48, 48, 48, 48, 48, 48, 48, 47, 48, 48, 48, 48, 48, 48, 48, 48, 48, 48, 48, 48, 48, 48, 48, 48, 48, 48, 48, 48, 48, 48, 48, 48, 48, 48, 48, 48, 48, 48, 48, 48, 48, 48, 48, 48, 48, 48, 48, 48, 48, 48]\n",
      "Num. Hops: [10, 9, 9, 11, 9, 6, 10, 11, 8, 10, 10, 11, 11, 11, 10, 8, 10, 9, 10, 8, 11, 9, 9, 10, 9, 10, 8, 10, 10, 9, 7, 8, 8, 12, 10, 11, 9, 11, 9, 8, 7, 10, 11, 9, 9, 10, 9, 10, 10, 11]\n"
     ]
    }
   ],
   "source": [
    "fish_pos = np.zeros((num_fish, 2))\n",
    "\n",
    "third = int(num_fish / 3)\n",
    "\n",
    "fish_pos[0:third, 0] = np.arange(num_fish / 3) + center - (num_fish / 6)\n",
    "fish_pos[third:2*third, 0] = np.arange(num_fish / 3) + center - (num_fish / 6)\n",
    "fish_pos[2*third:num_fish, 0] = np.arange(num_fish / 3) + center - (num_fish / 6)\n",
    "fish_pos[:,1] = center\n",
    "\n",
    "fish_pos[third:2*third][:,1] += 0.1\n",
    "fish_pos[2*third:num_fish][:,1] -= 0.1\n",
    "\n",
    "channel, environment, fish, interaction, observer = init_simulation(\n",
    "    clock_freq=clock_freq,\n",
    "    single_time=single_time,\n",
    "    offset_time=offset_time,\n",
    "    num_trials=num_trials,\n",
    "    final_buffer=final_buffer,\n",
    "    run_time=run_time,\n",
    "    num_fish=num_fish,\n",
    "    size_dist=size_dist,\n",
    "    center=center,\n",
    "    spread=20,\n",
    "    fish_pos=fish_pos,\n",
    "    lim_neighbors=[1, math.inf],\n",
    "    neighbor_weights=1.0,\n",
    "    fish_max_speeds=1,\n",
    "    noise_magnitude=0,\n",
    "    conn_thres=1.25,\n",
    "    prob_type='sigmoid',\n",
    "    dist_type='none',\n",
    "    verbose=False,\n",
    "    conn_drop=conn_drop\n",
    ")\n",
    "\n",
    "for i in range(num_trials):\n",
    "    observer.instruct(\n",
    "        event=InfoExternal(message=i, track=True),\n",
    "        rel_clock=i * single_time + offset_time,\n",
    "        fish_id=seed_fish_id\n",
    "    )\n",
    "observer.study('info')  # Store information on the info propagation\n",
    "\n",
    "run_simulation(fish=fish, observer=observer, run_time=run_time, dark=True, white_axis=True, no_legend=True)"
   ]
  },
  {
   "cell_type": "code",
   "execution_count": null,
   "metadata": {},
   "outputs": [],
   "source": []
  }
 ],
 "metadata": {
  "kernelspec": {
   "display_name": "Python 3",
   "language": "python",
   "name": "python3"
  },
  "language_info": {
   "codemirror_mode": {
    "name": "ipython",
    "version": 3
   },
   "file_extension": ".py",
   "mimetype": "text/x-python",
   "name": "python",
   "nbconvert_exporter": "python",
   "pygments_lexer": "ipython3",
   "version": "3.6.4"
  }
 },
 "nbformat": 4,
 "nbformat_minor": 2
}
