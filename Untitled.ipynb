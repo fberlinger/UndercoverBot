{
 "cells": [
  {
   "cell_type": "code",
   "execution_count": 82,
   "metadata": {},
   "outputs": [
    {
     "name": "stdout",
     "output_type": "stream",
     "text": [
      "The autoreload extension is already loaded. To reload it, use:\n",
      "  %reload_ext autoreload\n"
     ]
    }
   ],
   "source": [
    "%load_ext autoreload\n",
    "%autoreload 2\n",
    "%matplotlib inline\n",
    "\n",
    "import matplotlib\n",
    "\n",
    "matplotlib.rcParams['figure.figsize'] = [12, 8]\n",
    "\n",
    "import math\n",
    "import numpy as np\n",
    "import pickle\n",
    "\n",
    "from interaction import Interaction\n",
    "from environment import Environment\n",
    "from DelightFish import Fish\n",
    "from channel import Channel\n",
    "from observer import Observer\n",
    "from discriminator import Classifier\n",
    "from fitness import Fitness\n",
    "from optimizer import Optimizer\n",
    "\n",
    "from turing_learning import test_simulation\n",
    "from utils import generate_distortion, generate_fish, generate_replica_fish, generate_all_fish, run_simulation"
   ]
  },
  {
   "cell_type": "code",
   "execution_count": 92,
   "metadata": {},
   "outputs": [],
   "source": [
    "conn_threshold = 100\n",
    "run_time = 15\n",
    "total_fish = 25\n",
    "#num_fish = 20\n",
    "#num_replica_fish = 1\n",
    "k_ar = 0.003\n",
    "max_speed = 9\n",
    "arena_size = 300"
   ]
  },
  {
   "cell_type": "code",
   "execution_count": 93,
   "metadata": {},
   "outputs": [],
   "source": [
    "def run_full_test(weights, real = False):\n",
    "    arena_center = arena_size / 2.0\n",
    "    initial_spread = 20\n",
    "    fish_pos = initial_spread * np.random.rand(total_fish, 2) + arena_center - initial_spread / 2.0\n",
    "    clock_freqs = 1\n",
    "    verbose = False\n",
    "\n",
    "    distortion = generate_distortion(type='none', n=arena_size)\n",
    "    environment = Environment(\n",
    "        node_pos=fish_pos,\n",
    "        distortion=distortion,\n",
    "        prob_type='binary',\n",
    "        noise_magnitude=0,\n",
    "        conn_thres=conn_threshold,\n",
    "        verbose=verbose\n",
    "    )\n",
    "    interaction = Interaction(environment, verbose=verbose)\n",
    "    channel = Channel(environment)\n",
    "    \n",
    "    # Have all real or all fake\n",
    "    if real:\n",
    "        n_fish = total_fish\n",
    "        n_replica_fish = 0\n",
    "    else:\n",
    "        n_fish = 0\n",
    "        n_replica_fish = total_fish\n",
    "        \n",
    "    fish = generate_all_fish(\n",
    "        n_fish=n_fish,\n",
    "        n_replica_fish= n_replica_fish,\n",
    "        channel=channel, \n",
    "        interaction=interaction,\n",
    "        k_coh = 0,\n",
    "        k_ar = k_ar,\n",
    "        alpha = 40,\n",
    "        weights = weights,\n",
    "        lim_neighbors=[0, math.inf],\n",
    "        neighbor_weights=1.0,\n",
    "        fish_max_speeds=max_speed,\n",
    "        clock_freqs=clock_freqs,\n",
    "        verbose=verbose\n",
    "    )\n",
    "    channel.set_nodes(fish)\n",
    "\n",
    "    observer = Observer(fish=fish, environment=environment, channel=channel)\n",
    "    fish_matrix = test_simulation(fish=fish, observer=observer, run_time=run_time)\n",
    "    return fish_matrix\n"
   ]
  },
  {
   "cell_type": "code",
   "execution_count": null,
   "metadata": {},
   "outputs": [
    {
     "name": "stdout",
     "output_type": "stream",
     "text": [
      "(25_w,50)-aCMA-ES (mu_w=14.0,w_1=14%) in dimension 21 (seed=721061, Sun Nov 18 16:42:59 2018)\n",
      "(25_w,50)-aCMA-ES (mu_w=14.0,w_1=14%) in dimension 46 (seed=650845, Sun Nov 18 16:42:59 2018)\n",
      "Please wait patiently 15 seconds. Thanks.\n",
      "Please wait patiently 15 seconds. Thanks.\n",
      "Please wait patiently 15 seconds. Thanks.\n",
      "Please wait patiently 15 seconds. Thanks.\n",
      "Please wait patiently 15 seconds. Thanks.\n",
      "Please wait patiently 15 seconds. Thanks.\n",
      "Please wait patiently 15 seconds. Thanks.\n",
      "Please wait patiently 15 seconds. Thanks.\n",
      "Please wait patiently 15 seconds. Thanks.\n",
      "Please wait patiently 15 seconds. Thanks.\n",
      "Please wait patiently 15 seconds. Thanks.\n",
      "Please wait patiently 15 seconds. Thanks.\n",
      "Please wait patiently 15 seconds. Thanks.\n",
      "Please wait patiently 15 seconds. Thanks.\n",
      "Please wait patiently 15 seconds. Thanks.\n",
      "Please wait patiently 15 seconds. Thanks.\n",
      "Please wait patiently 15 seconds. Thanks.\n",
      "Please wait patiently 15 seconds. Thanks.\n",
      "Please wait patiently 15 seconds. Thanks.\n",
      "Please wait patiently 15 seconds. Thanks.\n",
      "Please wait patiently 15 seconds. Thanks.\n",
      "Please wait patiently 15 seconds. Thanks.\n",
      "Please wait patiently 15 seconds. Thanks.\n",
      "Please wait patiently 15 seconds. Thanks.\n",
      "Please wait patiently 15 seconds. Thanks.\n",
      "Please wait patiently 15 seconds. Thanks.\n",
      "Please wait patiently 15 seconds. Thanks.\n",
      "Please wait patiently 15 seconds. Thanks.\n",
      "Please wait patiently 15 seconds. Thanks.\n",
      "Please wait patiently 15 seconds. Thanks.\n",
      "Please wait patiently 15 seconds. Thanks.\n",
      "Please wait patiently 15 seconds. Thanks.\n",
      "Please wait patiently 15 seconds. Thanks.\n",
      "Please wait patiently 15 seconds. Thanks.\n",
      "Please wait patiently 15 seconds. Thanks.\n",
      "Please wait patiently 15 seconds. Thanks.\n",
      "Please wait patiently 15 seconds. Thanks.\n",
      "Please wait patiently 15 seconds. Thanks.\n",
      "Please wait patiently 15 seconds. Thanks.\n",
      "Please wait patiently 15 seconds. Thanks.\n",
      "Please wait patiently 15 seconds. Thanks.\n",
      "Please wait patiently 15 seconds. Thanks.\n",
      "Please wait patiently 15 seconds. Thanks.\n",
      "Please wait patiently 15 seconds. Thanks.\n",
      "Please wait patiently 15 seconds. Thanks.\n",
      "Please wait patiently 15 seconds. Thanks.\n",
      "Please wait patiently 15 seconds. Thanks.\n",
      "Please wait patiently 15 seconds. Thanks.\n",
      "Please wait patiently 15 seconds. Thanks.\n",
      "Please wait patiently 15 seconds. Thanks.\n",
      "Please wait patiently 15 seconds. Thanks.\n",
      "[0.5828, 0.5, 0.5, 0.126, 0.5, 0.8952, 0.5, 0.9036, 0.5, 0.4852, 0.5, 0.8344, 0.4988, 0.5, 0.8180000000000001, 0.5, 0.4988, 0.5, 0.5, 0.5, 0.21800000000000003, 0.5, 0.8988, 0.4956, 0.5, 0.5, 0.5, 0.46280000000000004, 0.4996, 0.10600000000000002, 0.4984, 0.5908, 0.07680000000000001, 0.5, 0.8956, 0.5, 0.9276, 0.5, 0.4064, 0.5, 0.5, 0.5, 0.5, 0.08400000000000002, 0.4188, 0.5, 0.5, 0.5, 0.5, 0.5]\n",
      "[0.4168, 0.4224, 0.3816, 0.352, 0.3912, 0.384, 0.3768, 0.3792, 0.376, 0.3808, 0.42, 0.3792, 0.38, 0.4112, 0.38, 0.3776, 0.3768, 0.416, 0.4112, 0.3984, 0.3792, 0.3816, 0.3784, 0.38, 0.3776, 0.404, 0.3912, 0.376, 0.3936, 0.4096, 0.3912, 0.3824, 0.3776, 0.3848, 0.38, 0.3792, 0.384, 0.3848, 0.38, 0.38, 0.3816, 0.3992, 0.3624, 0.376, 0.3448, 0.3968, 0.3704, 0.364, 0.3984, 0.416]\n",
      "Please wait patiently 15 seconds. Thanks.\n",
      "Please wait patiently 15 seconds. Thanks.\n",
      "Please wait patiently 15 seconds. Thanks.\n",
      "Please wait patiently 15 seconds. Thanks.\n",
      "Please wait patiently 15 seconds. Thanks.\n",
      "Please wait patiently 15 seconds. Thanks.\n",
      "Please wait patiently 15 seconds. Thanks.\n",
      "Please wait patiently 15 seconds. Thanks.\n",
      "Please wait patiently 15 seconds. Thanks.\n",
      "Please wait patiently 15 seconds. Thanks.\n",
      "Please wait patiently 15 seconds. Thanks.\n",
      "Please wait patiently 15 seconds. Thanks.\n",
      "Please wait patiently 15 seconds. Thanks.\n",
      "Please wait patiently 15 seconds. Thanks.\n",
      "Please wait patiently 15 seconds. Thanks.\n",
      "Please wait patiently 15 seconds. Thanks.\n",
      "Please wait patiently 15 seconds. Thanks.\n",
      "Please wait patiently 15 seconds. Thanks.\n",
      "Please wait patiently 15 seconds. Thanks.\n",
      "Please wait patiently 15 seconds. Thanks.\n",
      "Please wait patiently 15 seconds. Thanks.\n",
      "Please wait patiently 15 seconds. Thanks.\n",
      "Please wait patiently 15 seconds. Thanks.\n",
      "Please wait patiently 15 seconds. Thanks.\n",
      "Please wait patiently 15 seconds. Thanks.\n",
      "Please wait patiently 15 seconds. Thanks.\n",
      "Please wait patiently 15 seconds. Thanks.\n",
      "Please wait patiently 15 seconds. Thanks.\n",
      "Please wait patiently 15 seconds. Thanks.\n",
      "Please wait patiently 15 seconds. Thanks.\n",
      "Please wait patiently 15 seconds. Thanks.\n",
      "Please wait patiently 15 seconds. Thanks.\n",
      "Please wait patiently 15 seconds. Thanks.\n",
      "Please wait patiently 15 seconds. Thanks.\n",
      "Please wait patiently 15 seconds. Thanks.\n",
      "Please wait patiently 15 seconds. Thanks.\n"
     ]
    }
   ],
   "source": [
    "# go through ten generations\n",
    "opt = Optimizer()\n",
    "opt.init_model(21, 50)\n",
    "opt.init_classifier(46, 50)\n",
    "for i in range(200):\n",
    "    model_weights = opt.get_model_weights()\n",
    "    classifier_weights = opt.get_classifier_weights()\n",
    "    ideal_model = run_full_test(None, real = True)\n",
    "    replica_models = [run_full_test(weights) for weights in model_weights]\n",
    "    replica_models.insert(0, ideal_model)\n",
    "    all_trials = np.stack(replica_models)\n",
    "    total_classifiers = [Classifier(id = 1, weights = weights).classify_all_models(all_trials) for weights in classifier_weights]\n",
    "    fitness_scorer = Fitness(total_classifiers)\n",
    "    \n",
    "    class_scores = fitness_scorer.score_classifiers()\n",
    "    model_scores = fitness_scorer.score_models()\n",
    "    print(class_scores)\n",
    "    print(model_scores)\n",
    "    \n",
    "    opt.give_model_scores(model_scores)\n",
    "    opt.give_classifier_scores(class_scores)\n",
    "    \n",
    "\n",
    "file = open('test1.obj', 'w')\n",
    "pickle.dump((model_weights, classifier_weights), file)\n",
    "file.close()"
   ]
  },
  {
   "cell_type": "code",
   "execution_count": 91,
   "metadata": {},
   "outputs": [
    {
     "name": "stdout",
     "output_type": "stream",
     "text": [
      "(25, 1, 2)\n",
      "(25, 1, 2)\n",
      "(25, 1, 2)\n",
      "(25, 1, 2)\n",
      "(25, 1, 2)\n",
      "(25, 1, 2)\n",
      "(25, 1, 2)\n",
      "(25, 1, 2)\n",
      "(25, 1, 2)\n",
      "(25, 1, 2)\n",
      "(25, 1, 2)\n",
      "(25, 1, 2)\n",
      "(25, 1, 2)\n",
      "(25, 1, 2)\n",
      "(25, 1, 2)\n",
      "(25, 1, 2)\n",
      "(25, 1, 2)\n",
      "(25, 1, 2)\n",
      "(25, 1, 2)\n",
      "(25, 1, 2)\n",
      "(25, 1, 2)\n",
      "(25, 1, 2)\n",
      "(25, 1, 2)\n",
      "(25, 1, 2)\n",
      "(25, 1, 2)\n",
      "(25, 1, 2)\n",
      "(25, 1, 2)\n",
      "(25, 1, 2)\n",
      "(25, 1, 2)\n",
      "(25, 1, 2)\n",
      "(25, 1, 2)\n",
      "(25, 1, 2)\n",
      "(25, 1, 2)\n",
      "(25, 1, 2)\n",
      "(25, 1, 2)\n",
      "(25, 1, 2)\n",
      "(25, 1, 2)\n",
      "(25, 1, 2)\n",
      "(25, 1, 2)\n",
      "(25, 1, 2)\n",
      "(25, 1, 2)\n",
      "(25, 1, 2)\n",
      "(25, 1, 2)\n",
      "(25, 2, 2)\n",
      "(25, 1, 2)\n",
      "(25, 1, 2)\n",
      "(25, 1, 2)\n",
      "(25, 1, 2)\n",
      "(25, 1, 2)\n",
      "(25, 1, 2)\n",
      "(25, 1, 2)\n"
     ]
    },
    {
     "data": {
      "text/plain": [
       "51"
      ]
     },
     "execution_count": 91,
     "metadata": {},
     "output_type": "execute_result"
    }
   ],
   "source": [
    "for model in replica_models:\n",
    "    print(model.shape)\n",
    "len(replica_models)"
   ]
  },
  {
   "cell_type": "code",
   "execution_count": 68,
   "metadata": {},
   "outputs": [
    {
     "name": "stdout",
     "output_type": "stream",
     "text": [
      "[0.0, 0.0, 0.0, 0.0, 0.0, 0.0, 0.0, 0.0, 0.0, 0.0, 0.0, 0.0, 0.0, 0.0, 0.0, 0.0, 0.0, 0.0, 0.0, 0.0, 0.0, 0.0, 0.0, 0.0, 0.0, 0.0, 0.0, 0.0, 0.0, 0.0, 0.0, 0.0, 0.0, 0.0, 0.0, 0.0, 0.0, 0.0, 0.0, 0.0, 0.0, 0.0, 0.0, 0.0, 0.0, 0.0, 0.0, 0.0, 0.0, 0.0]\n"
     ]
    }
   ],
   "source": [
    "total_classifiers = [Classifier(id = 1, weights = [-1 for x in range(46)]).classify_all_models(all_trials) for weights in classifier_weights]\n",
    "fitness_scorer = Fitness(total_classifiers)\n",
    "class_scores = fitness_scorer.score_classifiers()\n",
    "model_scores = fitness_scorer.score_models()\n",
    "print(model_scores)\n"
   ]
  },
  {
   "cell_type": "code",
   "execution_count": 61,
   "metadata": {},
   "outputs": [
    {
     "name": "stdout",
     "output_type": "stream",
     "text": [
      "[0.5, 0.5, 0.5, 0.5, 0.5, 0.5, 0.5, 0.5, 0.5, 0.5, 0.5, 0.5, 0.5, 0.5, 0.5, 0.5, 0.5, 0.5, 0.5, 0.5, 0.5, 0.5, 0.5, 0.5, 0.5, 0.5, 0.5, 0.5, 0.5, 0.5, 0.5, 0.5, 0.5, 0.5, 0.5, 0.5, 0.5, 0.5, 0.5, 0.5, 0.5, 0.5, 0.5, 0.5, 0.5, 0.5, 0.5, 0.5, 0.5, 0.5]\n",
      "[1.0, 1.0, 1.0, 1.0, 1.0, 1.0, 1.0, 1.0, 1.0, 1.0, 1.0, 1.0, 1.0, 1.0, 1.0, 1.0, 1.0, 1.0, 1.0, 1.0, 1.0, 1.0, 1.0, 1.0, 1.0, 1.0, 1.0, 1.0, 1.0, 1.0, 1.0, 1.0, 1.0, 1.0, 1.0, 1.0, 1.0, 1.0, 1.0, 1.0, 1.0, 1.0, 1.0, 1.0, 1.0, 1.0, 1.0, 1.0, 1.0, 1.0]\n"
     ]
    }
   ],
   "source": [
    "total_classifiers = [Classifier(id = 1, weights = weights).classify_all_models(all_trials) for weights in classifier_weights]\n",
    "fitness_scorer = Fitness(total_classifiers)\n",
    "\n",
    "class_scores = fitness_scorer.score_classifiers()\n",
    "model_scores = fitness_scorer.score_models()\n",
    "print(class_scores)\n",
    "print(model_scores)"
   ]
  },
  {
   "cell_type": "code",
   "execution_count": 57,
   "metadata": {},
   "outputs": [
    {
     "name": "stdout",
     "output_type": "stream",
     "text": [
      "50\n",
      "(50, 50, 25)\n",
      "(50,)\n"
     ]
    },
    {
     "data": {
      "text/plain": [
       "[1.0,\n",
       " 1.0,\n",
       " 1.0,\n",
       " 1.0,\n",
       " 1.0,\n",
       " 1.0,\n",
       " 1.0,\n",
       " 1.0,\n",
       " 1.0,\n",
       " 1.0,\n",
       " 1.0,\n",
       " 1.0,\n",
       " 1.0,\n",
       " 1.0,\n",
       " 1.0,\n",
       " 1.0,\n",
       " 1.0,\n",
       " 1.0,\n",
       " 1.0,\n",
       " 1.0,\n",
       " 1.0,\n",
       " 1.0,\n",
       " 1.0,\n",
       " 1.0,\n",
       " 1.0,\n",
       " 1.0,\n",
       " 1.0,\n",
       " 1.0,\n",
       " 1.0,\n",
       " 1.0,\n",
       " 1.0,\n",
       " 1.0,\n",
       " 1.0,\n",
       " 1.0,\n",
       " 1.0,\n",
       " 1.0,\n",
       " 1.0,\n",
       " 1.0,\n",
       " 1.0,\n",
       " 1.0,\n",
       " 1.0,\n",
       " 1.0,\n",
       " 1.0,\n",
       " 1.0,\n",
       " 1.0,\n",
       " 1.0,\n",
       " 1.0,\n",
       " 1.0,\n",
       " 1.0,\n",
       " 1.0]"
      ]
     },
     "execution_count": 57,
     "metadata": {},
     "output_type": "execute_result"
    }
   ],
   "source": [
    "models = [data[1:, :] for data in total_classifiers]\n",
    "print(len(models))\n",
    "model_arr = np.stack(models, axis = 1)\n",
    "print(model_arr.shape)\n",
    "model_scores = np.mean(model_arr, axis = (1,2))\n",
    "print(model_scores.shape)\n",
    "model_scores.flatten().tolist()\n"
   ]
  },
  {
   "cell_type": "code",
   "execution_count": 59,
   "metadata": {},
   "outputs": [],
   "source": [
    "weights = range(46)\n",
    "classifier = Classifier(id = 1, weights = weights)\n",
    "classifier.classify_models(fish_matrix)\n",
    "all_classified = classifier.classify_all_models(all_trials)\n",
    "total_classifiers = [all_classified for i in range(100)]"
   ]
  },
  {
   "cell_type": "code",
   "execution_count": 60,
   "metadata": {},
   "outputs": [
    {
     "name": "stdout",
     "output_type": "stream",
     "text": [
      "100\n",
      "100\n"
     ]
    }
   ],
   "source": [
    "fitness_scorer = Fitness(total_classifiers)\n",
    "print(len(fitness_scorer.score_classifiers()))\n",
    "print(len(fitness_scorer.score_models()))"
   ]
  },
  {
   "cell_type": "code",
   "execution_count": 49,
   "metadata": {},
   "outputs": [],
   "source": [
    "opt = Optimizer()"
   ]
  },
  {
   "cell_type": "code",
   "execution_count": 52,
   "metadata": {},
   "outputs": [
    {
     "name": "stdout",
     "output_type": "stream",
     "text": [
      "(50_w,100)-aCMA-ES (mu_w=27.0,w_1=8%) in dimension 17 (seed=967836, Mon Oct 29 12:56:29 2018)\n",
      "(50_w,100)-aCMA-ES (mu_w=27.0,w_1=8%) in dimension 46 (seed=905871, Mon Oct 29 12:56:29 2018)\n"
     ]
    }
   ],
   "source": [
    "opt.init_model(17, 100)\n",
    "opt.init_classifier(46, 100)"
   ]
  },
  {
   "cell_type": "code",
   "execution_count": 56,
   "metadata": {},
   "outputs": [],
   "source": [
    "weights = opt.get_model_weights()[0]\n",
    "\n"
   ]
  },
  {
   "cell_type": "code",
   "execution_count": 31,
   "metadata": {},
   "outputs": [
    {
     "data": {
      "text/plain": [
       "(100, 1, 10)"
      ]
     },
     "execution_count": 31,
     "metadata": {},
     "output_type": "execute_result"
    }
   ],
   "source": [
    "all_return.shape\n"
   ]
  },
  {
   "cell_type": "code",
   "execution_count": 63,
   "metadata": {},
   "outputs": [
    {
     "data": {
      "text/plain": [
       "(100, 10, 5, 2)"
      ]
     },
     "execution_count": 63,
     "metadata": {},
     "output_type": "execute_result"
    }
   ],
   "source": [
    "all_fish.shape\n",
    "\n"
   ]
  },
  {
   "cell_type": "code",
   "execution_count": 73,
   "metadata": {},
   "outputs": [
    {
     "ename": "AttributeError",
     "evalue": "'range' object has no attribute 'shape'",
     "output_type": "error",
     "traceback": [
      "\u001b[0;31m---------------------------------------------------------------------------\u001b[0m",
      "\u001b[0;31mAttributeError\u001b[0m                            Traceback (most recent call last)",
      "\u001b[0;32m<ipython-input-73-8c12dd2b9105>\u001b[0m in \u001b[0;36m<module>\u001b[0;34m()\u001b[0m\n\u001b[0;32m----> 1\u001b[0;31m \u001b[0mweights\u001b[0m\u001b[0;34m.\u001b[0m\u001b[0mshape\u001b[0m\u001b[0;34m\u001b[0m\u001b[0m\n\u001b[0m",
      "\u001b[0;31mAttributeError\u001b[0m: 'range' object has no attribute 'shape'"
     ]
    }
   ],
   "source": [
    "weights.shape\n"
   ]
  },
  {
   "cell_type": "code",
   "execution_count": 80,
   "metadata": {},
   "outputs": [
    {
     "data": {
      "text/plain": [
       "[array([4.61997272, 0.848501  , 0.67521526, 0.45558463, 6.16997087,\n",
       "        0.08716378, 4.80000271, 6.25027001, 2.73772635, 6.75024821,\n",
       "        1.66818858, 3.75046059, 1.26760439, 0.11349848, 2.51024299,\n",
       "        2.96260077, 1.644022  , 3.73797226, 6.59720813, 0.03338364,\n",
       "        0.31439095, 3.11157112, 4.6781033 , 0.97894509, 1.09439867,\n",
       "        1.25700191, 4.17351992, 0.89799091, 3.8716744 , 3.71180871,\n",
       "        3.79426995, 6.18974168, 3.05245208, 1.12172232, 6.46819621,\n",
       "        1.45626932, 1.50035177, 2.83421906, 1.24749299, 0.36263485,\n",
       "        3.44372168, 4.2815367 , 1.28237426, 1.95099611, 3.51726587,\n",
       "        2.91749196]),\n",
       " array([3.51173985e+00, 2.40077568e+00, 1.49102553e-02, 2.96824333e-05,\n",
       "        8.33429489e+00, 1.00137778e-01, 2.30833143e+00, 5.99968617e+00,\n",
       "        2.93945814e+00, 6.70894262e+00, 1.97622765e+00, 4.14651115e+00,\n",
       "        1.59928296e+00, 1.37332381e-01, 1.45432061e+00, 1.72868774e+00,\n",
       "        1.15954788e+00, 3.08671126e+00, 5.99484359e+00, 1.52325123e+00,\n",
       "        4.41499661e-01, 3.62396643e+00, 3.69858909e+00, 2.74552017e-01,\n",
       "        2.75543484e-01, 1.81906053e+00, 2.92803892e+00, 2.40824171e+00,\n",
       "        4.40067080e+00, 3.72103910e+00, 3.84553598e+00, 4.91563531e+00,\n",
       "        1.71899915e+00, 2.97054408e+00, 6.85930365e+00, 4.37803887e-01,\n",
       "        4.28456656e-01, 3.87256750e+00, 1.46700729e-01, 4.50528468e-01,\n",
       "        3.99069570e+00, 3.14155802e+00, 2.91248572e-01, 2.30656176e+00,\n",
       "        4.26227552e+00, 4.08037115e+00])]"
      ]
     },
     "execution_count": 80,
     "metadata": {},
     "output_type": "execute_result"
    }
   ],
   "source": [
    "classifier_weights"
   ]
  },
  {
   "cell_type": "code",
   "execution_count": null,
   "metadata": {},
   "outputs": [],
   "source": []
  }
 ],
 "metadata": {
  "kernelspec": {
   "display_name": "Python 3",
   "language": "python",
   "name": "python3"
  },
  "language_info": {
   "codemirror_mode": {
    "name": "ipython",
    "version": 3
   },
   "file_extension": ".py",
   "mimetype": "text/x-python",
   "name": "python",
   "nbconvert_exporter": "python",
   "pygments_lexer": "ipython3",
   "version": "3.6.4"
  }
 },
 "nbformat": 4,
 "nbformat_minor": 2
}
